{
  "nbformat": 4,
  "nbformat_minor": 0,
  "metadata": {
    "colab": {
      "provenance": []
    },
    "kernelspec": {
      "name": "python3",
      "display_name": "Python 3"
    },
    "language_info": {
      "name": "python"
    }
  },
  "cells": [
    {
      "cell_type": "markdown",
      "source": [
        "**Parte 1** | Pré-processamento dos Dados"
      ],
      "metadata": {
        "id": "opRWDa52Qc_O"
      }
    },
    {
      "cell_type": "code",
      "source": [
        "import pandas as pd\n",
        "\n",
        "# 1 Carregar a base de dados no Colab\n",
        "path = 'Titanic-Dataset.csv'\n",
        "df = pd.read_csv(path)\n",
        "\n",
        "# 2 Limpeza de Dados\n",
        "\n",
        "# Verificação de valores ausentes\n",
        "print(df.isnull().sum())\n",
        "# Preencher valores ausentes na coluna 'Age' com a mediana\n",
        "df['Age'].fillna(df['Age'].median(), inplace=True)\n",
        "# Preencher valores ausentes na coluna 'Fare' com a mediana\n",
        "df['Fare'].fillna(df['Fare'].median(), inplace=True)\n",
        "# Remover linhas que ainda contenham valores nulos\n",
        "df_clean = df.dropna()\n",
        "\n",
        "# 3 Seleção de variáveis\n",
        "\n",
        "# Colunas para análise\n",
        "df_selected = df_clean[['Pclass', 'Sex', 'Age', 'Fare', 'Survived']]\n",
        "# Converter a coluna 'Sex' em variáveis numéricas\n",
        "df_selected = pd.get_dummies(df_selected, columns=['Sex'], drop_first=True)\n",
        "# Exibindo as primeiras linhas após a seleção e transformação\n",
        "print(df_selected.head())\n",
        "\n",
        "# 4 Divisão dos dados\n",
        "x = df_selected[['Pclass', 'Sex_male', 'Age', 'Fare']]\n",
        "y = df_selected['Survived']"
      ],
      "metadata": {
        "colab": {
          "base_uri": "https://localhost:8080/"
        },
        "id": "Ui_E0yLUL1Vb",
        "outputId": "605528f5-be85-49f1-f93f-5903d81843ec"
      },
      "execution_count": 13,
      "outputs": [
        {
          "output_type": "stream",
          "name": "stdout",
          "text": [
            "PassengerId      0\n",
            "Survived         0\n",
            "Pclass           0\n",
            "Name             0\n",
            "Sex              0\n",
            "Age            177\n",
            "SibSp            0\n",
            "Parch            0\n",
            "Ticket           0\n",
            "Fare             0\n",
            "Cabin          687\n",
            "Embarked         2\n",
            "dtype: int64\n",
            "    Pclass   Age     Fare  Survived  Sex_male\n",
            "1        1  38.0  71.2833         1     False\n",
            "3        1  35.0  53.1000         1     False\n",
            "6        1  54.0  51.8625         0      True\n",
            "10       3   4.0  16.7000         1     False\n",
            "11       1  58.0  26.5500         1     False\n"
          ]
        },
        {
          "output_type": "stream",
          "name": "stderr",
          "text": [
            "<ipython-input-13-2acf4804b734>:12: FutureWarning: A value is trying to be set on a copy of a DataFrame or Series through chained assignment using an inplace method.\n",
            "The behavior will change in pandas 3.0. This inplace method will never work because the intermediate object on which we are setting values always behaves as a copy.\n",
            "\n",
            "For example, when doing 'df[col].method(value, inplace=True)', try using 'df.method({col: value}, inplace=True)' or df[col] = df[col].method(value) instead, to perform the operation inplace on the original object.\n",
            "\n",
            "\n",
            "  df['Age'].fillna(df['Age'].median(), inplace=True)\n",
            "<ipython-input-13-2acf4804b734>:14: FutureWarning: A value is trying to be set on a copy of a DataFrame or Series through chained assignment using an inplace method.\n",
            "The behavior will change in pandas 3.0. This inplace method will never work because the intermediate object on which we are setting values always behaves as a copy.\n",
            "\n",
            "For example, when doing 'df[col].method(value, inplace=True)', try using 'df.method({col: value}, inplace=True)' or df[col] = df[col].method(value) instead, to perform the operation inplace on the original object.\n",
            "\n",
            "\n",
            "  df['Fare'].fillna(df['Fare'].median(), inplace=True)\n"
          ]
        }
      ]
    },
    {
      "cell_type": "markdown",
      "source": [
        "**Parte 2** | Implementação simples de um algoritmo de classificação (k-NN)"
      ],
      "metadata": {
        "id": "7ay6RZ7dRnwU"
      }
    },
    {
      "cell_type": "code",
      "source": [
        "from sklearn.neighbors import KNeighborsClassifier\n",
        "from sklearn.model_selection import train_test_split\n",
        "\n",
        "# Dividir os dados em treino e teste (70% treino, 30% teste)\n",
        "x_train, x_test, y_train, y_test = train_test_split(x, y, test_size=0.3, random_state=42)\n",
        "\n",
        "knn = KNeighborsClassifier(n_neighbors=3)\n",
        "knn.fit(x_train, y_train)\n",
        "\n",
        "# Fazer previsões no conjunto de teste\n",
        "y_pred = knn.predict(x_test)"
      ],
      "metadata": {
        "id": "52rcFulBR0eZ"
      },
      "execution_count": 14,
      "outputs": []
    },
    {
      "cell_type": "markdown",
      "source": [
        "**Parte 3** | Avaliação de desempenho"
      ],
      "metadata": {
        "id": "SP-cbKoESaOr"
      }
    },
    {
      "cell_type": "code",
      "source": [
        "from sklearn.metrics import accuracy_score\n",
        "from sklearn.metrics import confusion_matrix\n",
        "\n",
        "# 1 Avaliando acurácia\n",
        "accuracy = accuracy_score(y_test, y_pred)\n",
        "print(f'Acurácia: {accuracy:.2f}')\n",
        "\n",
        "# 2 Matriz de confusão\n",
        "cm = confusion_matrix(y_test, y_pred)\n",
        "print(cm)"
      ],
      "metadata": {
        "colab": {
          "base_uri": "https://localhost:8080/"
        },
        "id": "7c1iNn0ZSdZx",
        "outputId": "bae7e24d-d71a-48b5-9e5f-8302b0a46497"
      },
      "execution_count": 15,
      "outputs": [
        {
          "output_type": "stream",
          "name": "stdout",
          "text": [
            "Acurácia: 0.66\n",
            "[[ 3 10]\n",
            " [11 37]]\n"
          ]
        }
      ]
    }
  ]
}